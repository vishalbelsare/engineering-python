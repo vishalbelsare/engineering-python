{
 "cells": [
  {
   "cell_type": "markdown",
   "metadata": {
    "collapsed": true,
    "jupyter": {
     "outputs_hidden": true
    }
   },
   "source": [
    "# Course Materials and Jupyter Notebook"
   ]
  },
  {
   "cell_type": "markdown",
   "metadata": {},
   "source": [
    "### Download Course Materials from GitHub"
   ]
  },
  {
   "cell_type": "markdown",
   "metadata": {},
   "source": [
    "- Go to http://github.com/yongtwang\n",
    "- Click \"engineering-python\". <br>\n",
    "<img src=\"images/github_1.png\" alt=\"GitHub\" style=\"width: 500px;\"/>\n",
    "- Scroll down and click the \"Code\" button and choose \"Download ZIP\". <br>\n",
    "<img src=\"images/github_2.png\" alt=\"GitHub\" style=\"width: 400px;\"/>\n",
    "- Go to your Downloads folder and unzip the downloaded file named `engineering-python-master.zip`. \n",
    "- **You will see all the course materials in the folder `engineering-python-master`. This will be the base folder for this entire course.**"
   ]
  },
  {
   "cell_type": "markdown",
   "metadata": {},
   "source": [
    "### Jupyter Notebook"
   ]
  },
  {
   "cell_type": "markdown",
   "metadata": {},
   "source": [
    "- Type in `cmd` in the Windows Start Menu and hit `Enter` to run the Command Prompt. In Mac OS, you should type in `terminal` in Launchpad. <br>\n",
    "<img src=\"images/command_prompt_1.png\" alt=\"Command Prompt\" style=\"width: 300px;\"/>\n",
    "- Type in `cd Downloads` and hit `Enter` to change directory to the `Downloads` folder. \n",
    "- Then type in `cd engineering-python-master` and hit `Enter` to further change directory to the base folder `engineering-python-master`.\n",
    "- Type in `jupyter notebook` in the Command Prompt or Terminal and hit `Enter`. <br>\n",
    "<img src=\"images/command_prompt_2.png\" alt=\"Command Prompt\" style=\"width: 500px;\"/>"
   ]
  },
  {
   "cell_type": "markdown",
   "metadata": {},
   "source": [
    "- Wait for a few seconds until Jupyter Notebook opens in a browser. This is the Dashboard view of Jupyter Notebook. <br>\n",
    "<img src=\"images/jupyter_1.png\" alt=\"Jupyter Notebook\" style=\"width: 500px;\"/>\n",
    "- Double-click and go to the `02C_Jupyter_Notebook` folder. You will see `02C_Jupyter_Notebook.ipynb` and `hello.py`. <br>\n",
    "<img src=\"images/jupyter_2.png\" alt=\"Jupyter Notebook\" style=\"width: 500px;\"/>\n",
    "- Double-click to open `02C_Jupyter_Notebook.ipynb`. <br>\n",
    "<img src=\"images/jupyter_3.png\" alt=\"Jupyter Notebook\" style=\"width: 550px;\"/>"
   ]
  },
  {
   "cell_type": "markdown",
   "metadata": {},
   "source": [
    "- Now scroll down and type in a few Python statements below and click the run cell button in the toolbar: <img src=\"images/run_cell.png\" alt=\"Run Cell Button\" style=\"width: 50px;\"/>  <br> You will immediately see the results."
   ]
  },
  {
   "cell_type": "code",
   "execution_count": 1,
   "metadata": {},
   "outputs": [
    {
     "name": "stdout",
     "output_type": "stream",
     "text": [
      "Hello World\n"
     ]
    }
   ],
   "source": [
    "print(\"Hello World\")"
   ]
  },
  {
   "cell_type": "code",
   "execution_count": 2,
   "metadata": {},
   "outputs": [
    {
     "data": {
      "text/plain": [
       "3"
      ]
     },
     "execution_count": 2,
     "metadata": {},
     "output_type": "execute_result"
    }
   ],
   "source": [
    "1 + 2"
   ]
  },
  {
   "cell_type": "markdown",
   "metadata": {},
   "source": [
    "- Double-click to open `hello.py`. You will see the source code in an editor. You can make changes and save the new file. <br>\n",
    "<img src=\"images/jupyter_4.png\" alt=\"Jupyter Notebook\" style=\"width: 550px;\"/>"
   ]
  },
  {
   "cell_type": "markdown",
   "metadata": {},
   "source": [
    "- You can run the Python program using the following `run` magic, and click the run cell button."
   ]
  },
  {
   "cell_type": "code",
   "execution_count": 3,
   "metadata": {},
   "outputs": [
    {
     "name": "stdout",
     "output_type": "stream",
     "text": [
      "Hello World\n",
      "3\n"
     ]
    }
   ],
   "source": [
    "%run hello.py"
   ]
  },
  {
   "cell_type": "markdown",
   "metadata": {},
   "source": [
    "- You can also create new Jupyter Notebook or Python file by clicking `New` (top right corner) and select `Python 3` or `Text File` in the Dashboard.\n",
    "<img src=\"images/jupyter_5.png\" alt=\"Jupyter Notebook\" style=\"width: 550px;\"/>"
   ]
  },
  {
   "cell_type": "markdown",
   "metadata": {},
   "source": [
    "### Python Integrated Development Environment (IDE)"
   ]
  },
  {
   "cell_type": "markdown",
   "metadata": {},
   "source": [
    "- [Jupyter Notebook Quick Introduction](https://www.youtube.com/watch?v=jZ952vChhuI)\n",
    "- [IDLE](https://www.youtube.com/watch?v=_hRoAD49tbo) (comes with Anaconda)\n",
    "- [Spyder](https://www.youtube.com/watch?v=7FwXz1KqFBU) (comes with Anaconda)\n",
    "- [PyCharm](http://www.jetbrains.com/pycharm)\n",
    "    - [PyCharm Installation](https://www.youtube.com/watch?v=XsL8JDkH-ec)\n",
    "    - [PyCharm Basics](https://www.youtube.com/watch?v=HHcZbXsZtm0)\n",
    "- [A List of Python IDEs](http://wiki.python.org/moin/IntegratedDevelopmentEnvironments)"
   ]
  },
  {
   "cell_type": "markdown",
   "metadata": {},
   "source": [
    "### Course Materials on YouTube and GitHub"
   ]
  },
  {
   "cell_type": "markdown",
   "metadata": {},
   "source": [
    "- Course videos are hosted by YouTube ( http://youtube.com/yongtwang ).\n",
    "- Course documents (Jupyter Notebooks and Python source code) are hosted by GitHub ( http://github.com/yongtwang )."
   ]
  }
 ],
 "metadata": {
  "kernelspec": {
   "display_name": "Python 3 (ipykernel)",
   "language": "python",
   "name": "python3"
  },
  "language_info": {
   "codemirror_mode": {
    "name": "ipython",
    "version": 3
   },
   "file_extension": ".py",
   "mimetype": "text/x-python",
   "name": "python",
   "nbconvert_exporter": "python",
   "pygments_lexer": "ipython3",
   "version": "3.12.4"
  }
 },
 "nbformat": 4,
 "nbformat_minor": 4
}
