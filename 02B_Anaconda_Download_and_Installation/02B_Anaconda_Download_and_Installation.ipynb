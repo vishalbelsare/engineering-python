{
 "cells": [
  {
   "cell_type": "markdown",
   "metadata": {},
   "source": [
    "# Anaconda Download and Installation"
   ]
  },
  {
   "cell_type": "markdown",
   "metadata": {},
   "source": [
    "### Anaconda and Python"
   ]
  },
  {
   "cell_type": "markdown",
   "metadata": {},
   "source": [
    "- Anaconda is a free open-source Python distribution that supports Windows, Mac OS, and Linux.\n",
    "- It includes hundreds of the most popular Python packages for math, science, and engineering.\n",
    "- It has a strong focus on scientific computing and data analytics."
   ]
  },
  {
   "cell_type": "markdown",
   "metadata": {},
   "source": [
    "### Download and Installation"
   ]
  },
  {
   "cell_type": "markdown",
   "metadata": {},
   "source": [
    "- Download the newest version of Anaconda (64-bit) or higher from https://www.anaconda.com/download and install it on your computer.\n",
    "- **Install it for \"Just me\" instead of all users.** This can save you a lot of trouble caused by access permissions. <br>\n",
    "<img src=\"images/anaconda_installation_just_me.png\" alt=\"Anaconda Installation\" style=\"width: 400px;\"/>\n",
    "- **For Windows users, make sure you check the boxes \"Add Anaconda to the system PATH environment variable\" and \"Register Anaconda as the system Python 3.11\" during installation (this is not required in Mac OS):** <br>\n",
    "<img src=\"images/anaconda_installation_advanced_options.png\" alt=\"Anaconda Installation\" style=\"width: 400px;\"/>"
   ]
  },
  {
   "cell_type": "markdown",
   "metadata": {},
   "source": [
    "### Course Materials on YouTube and GitHub"
   ]
  },
  {
   "cell_type": "markdown",
   "metadata": {},
   "source": [
    "- Course videos are hosted by YouTube ( http://youtube.com/yongtwang ).\n",
    "- Course documents (Jupyter Notebooks and Python source code) are hosted by GitHub ( http://github.com/yongtwang )."
   ]
  }
 ],
 "metadata": {
  "kernelspec": {
   "display_name": "Python 3 (ipykernel)",
   "language": "python",
   "name": "python3"
  },
  "language_info": {
   "codemirror_mode": {
    "name": "ipython",
    "version": 3
   },
   "file_extension": ".py",
   "mimetype": "text/x-python",
   "name": "python",
   "nbconvert_exporter": "python",
   "pygments_lexer": "ipython3",
   "version": "3.12.4"
  }
 },
 "nbformat": 4,
 "nbformat_minor": 4
}
