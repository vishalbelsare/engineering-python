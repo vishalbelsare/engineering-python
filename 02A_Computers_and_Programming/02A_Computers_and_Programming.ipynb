{
 "cells": [
  {
   "cell_type": "markdown",
   "metadata": {},
   "source": [
    "# Computers and Programming"
   ]
  },
  {
   "cell_type": "markdown",
   "metadata": {},
   "source": [
    "### __[Computer Hardware](https://www.youtube.com/watch?v=HB4I2CgkcCo)__"
   ]
  },
  {
   "cell_type": "markdown",
   "metadata": {},
   "source": [
    "- The **central processing unit (CPU)** is the \"brain\" of a computer. It carries out all the operations instructed by a program. <img src=\"images/cpu.png\" alt=\"CPU\" style=\"width: 300px;\"/>\n",
    "- CPU can access programs and data stored in the **primary storage** called Random Access Memory (RAM). RAM is fast but volatile. The information contained in RAM is lost when the power is shut off. <img src=\"images/ram.jpg\" alt=\"RAM\" style=\"width: 250px;\"/>\n",
    "- Hard drives, USB drives, CDs/DVDs, floppy disks, and tapes are examples of **secondary storage**, which are non-volatile. The information will be retained even when not powered. <img src=\"images/secondary_storage.png\" alt=\"Secondary Storage\" style=\"width: 350px;\"/>\n",
    "- **Input/Output (I/O) devices** are computer hardware used to pass information into or out of a computer. Commonly used input devices are keyboards, mice, touch screens, scanners, microphones, and webcams. <img src=\"images/input_devices.png\" alt=\"Input Devices\" style=\"width: 350px;\"/>\n",
    "- Commonly used output devices are monitors, printers, projectors, and speakers. <img src=\"images/output_devices.png\" alt=\"Output Devices\" style=\"width: 350px;\"/>"
   ]
  },
  {
   "cell_type": "markdown",
   "metadata": {},
   "source": [
    "### Computer Software"
   ]
  },
  {
   "cell_type": "markdown",
   "metadata": {},
   "source": [
    "- A computer program is a set of step-by-step statements that instruct a computer what to do to solve a problem. Computer programs are commonly referred to as computer software in contrast to the physical hardware on which they are built.\n",
    "- Software (programs) rule the hardware (the physical machine). The process of creating computer software is called computer programming or coding.\n",
    "- A computer program is executed using the __[following process](https://www.youtube.com/watch?v=Z5JC9Ve1sfI)__: retrieve an instruction from the memory, determine what actions the instruction represents in the CPU, carry out those actions, and repeat until no more instructions in the memory."
   ]
  },
  {
   "cell_type": "markdown",
   "metadata": {},
   "source": [
    "### Human Languages vs. Computer Languages"
   ]
  },
  {
   "cell_type": "markdown",
   "metadata": {},
   "source": [
    "- Human languages are not suitable for computer programming due to their ambiguous and imprecise nature.\n",
    "    - Example 1: I saw Jane using binoculars.\n",
    "    - Example 2: One minus two plus 3.\n",
    "- Computer programs must be expressed in programming languages, which have unambiguous syntax and semantics. \n",
    "- **Syntax means every instruction must be in a precise form.**\n",
    "- **Semantics means every instruction must have a precise meaning.**"
   ]
  },
  {
   "cell_type": "markdown",
   "metadata": {},
   "source": [
    "### Low-Level vs. High-Level Programming Languages"
   ]
  },
  {
   "cell_type": "markdown",
   "metadata": {},
   "source": [
    "- Computer hardware can only understand machine languages represented by 0s and 1s. \n",
    "- Assembly languages are considered low-level because they are very close to machine languages. \n",
    "- In contrast, high-level languages (C, C++, Fortran, Java, Basic, Python, Matlab, R, etc.) are closer to human languages and farther from machine languages. \n",
    "- The main advantage of high-level languages over low-level languages is that they are easier to read, write, and maintain. \n",
    "- Ultimately, programs written in a high-level language must be translated into a machine language by a compiler or interpreter before they are finally carried out."
   ]
  },
  {
   "cell_type": "markdown",
   "metadata": {},
   "source": [
    "- Adding two numbers using a low-level language:\n",
    "    - Load the number `x` from memory location 4607 into the CPU.\n",
    "    - Load the number `y` from memory location 4608 into the CPU.\n",
    "    - Add the two numbers in the CPU and assign it to `z`.\n",
    "    - Store `z` into location 4609.\n",
    "- Adding two numbers using a high-level language:\n",
    "    - `z = x + y`"
   ]
  },
  {
   "cell_type": "markdown",
   "metadata": {},
   "source": [
    "### __[Compiled vs. Interpreted Languages](https://www.youtube.com/watch?v=JNMy969SjyU)__"
   ]
  },
  {
   "cell_type": "markdown",
   "metadata": {},
   "source": [
    "- Compiled languages (C, C++, Fortran, Java, etc.) are converted into the machine language by a compiler. Once the program is compiled, it can be executed over and over without the source code or compiler.\n",
    "- For interpreted languages (Python, Matlab, R, Visual Basic, etc.), the source code is not translated into machine language all at once. Instead, an interpreter translates and executes the source code line by line.\n",
    "- In general, compiled programs run faster since the source code conversion happens only once. However, interpreted programs take less time to develop and are easier to maintain."
   ]
  },
  {
   "cell_type": "markdown",
   "metadata": {},
   "source": [
    "### Difference Between a Program and an Algorithm"
   ]
  },
  {
   "cell_type": "markdown",
   "metadata": {},
   "source": [
    "- An algorithm is a generic description of how to solve a problem.\n",
    "- A program is an implementation of the algorithm using a programming language.\n",
    "- Programmers often refer to their programs as computer code, and programming as coding."
   ]
  },
  {
   "cell_type": "markdown",
   "metadata": {},
   "source": [
    "### Course Materials on YouTube and GitHub"
   ]
  },
  {
   "cell_type": "markdown",
   "metadata": {},
   "source": [
    "- Course videos are hosted by YouTube ( http://youtube.com/yongtwang ).\n",
    "- Course documents (Jupyter Notebooks and Python source code) are hosted by GitHub ( http://github.com/yongtwang )."
   ]
  }
 ],
 "metadata": {
  "kernelspec": {
   "display_name": "Python 3 (ipykernel)",
   "language": "python",
   "name": "python3"
  },
  "language_info": {
   "codemirror_mode": {
    "name": "ipython",
    "version": 3
   },
   "file_extension": ".py",
   "mimetype": "text/x-python",
   "name": "python",
   "nbconvert_exporter": "python",
   "pygments_lexer": "ipython3",
   "version": "3.12.4"
  }
 },
 "nbformat": 4,
 "nbformat_minor": 4
}
